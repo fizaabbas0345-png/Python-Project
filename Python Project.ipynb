{
 "cells": [
  {
   "cell_type": "code",
   "execution_count": 1,
   "id": "f040ee0f-6f34-48eb-aaf8-4ea5a8e472df",
   "metadata": {},
   "outputs": [
    {
     "name": "stdin",
     "output_type": "stream",
     "text": [
      "Select Account Status\n",
      " 1. Manager\n",
      " 2. Customer\n",
      " 1\n",
      "Enter username:\n",
      " Fiza Abbas\n",
      "Enter password:\n",
      " 1234\n"
     ]
    },
    {
     "name": "stdout",
     "output_type": "stream",
     "text": [
      "Invalid username or password, Try Again\n"
     ]
    },
    {
     "name": "stdin",
     "output_type": "stream",
     "text": [
      "Enter username:\n",
      " Fiza Abbas\n",
      "Enter password:\n",
      " 1223\n"
     ]
    },
    {
     "name": "stdout",
     "output_type": "stream",
     "text": [
      "Login to Manager Account Successfully\n",
      "\n",
      "Now you have the following Options:\n",
      "1. Add Room\n",
      "2. Edit Room\n",
      "3. Delete Room\n",
      "4. Logout\n"
     ]
    },
    {
     "name": "stdin",
     "output_type": "stream",
     "text": [
      "Enter your choice:\n",
      " 1\n"
     ]
    },
    {
     "name": "stdout",
     "output_type": "stream",
     "text": [
      "Add a new room:\n"
     ]
    },
    {
     "name": "stdin",
     "output_type": "stream",
     "text": [
      "Enter Room Number:\n",
      " 105\n",
      "Enter Room Type (Single/Double/Family):\n",
      " Single\n",
      "Enter Room Rate:\n",
      " 4000\n"
     ]
    },
    {
     "name": "stdout",
     "output_type": "stream",
     "text": [
      "Room 105 added with type Single and rate 4000.\n",
      "\n",
      "Now you have the following Options:\n",
      "1. Add Room\n",
      "2. Edit Room\n",
      "3. Delete Room\n",
      "4. Logout\n"
     ]
    },
    {
     "name": "stdin",
     "output_type": "stream",
     "text": [
      "Enter your choice:\n",
      " 4\n"
     ]
    },
    {
     "name": "stdout",
     "output_type": "stream",
     "text": [
      "Logging out...\n"
     ]
    }
   ],
   "source": [
    "### HOTEL MANAGEMENT \n",
    "\n",
    "class Manager:\n",
    "    def __init__(self, username, password):\n",
    "        self.username = username\n",
    "        self.password = password\n",
    "\n",
    "    def login(self):\n",
    "        while True:\n",
    "            login_user = input(\"Enter username:\\n\")\n",
    "            login_password = input(\"Enter password:\\n\")\n",
    "            \n",
    "            if login_user == self.username and login_password == self.password:\n",
    "                print(\"Login to Manager Account Successfully\")\n",
    "                self.manager_menu()\n",
    "                break\n",
    "            else:\n",
    "                print(\"Invalid username or password, Try Again\")\n",
    "    \n",
    "    def manager_menu(self):\n",
    "        while True:\n",
    "            print(\"\\nNow you have the following Options:\")\n",
    "            print(\"1. Add Room\")\n",
    "            print(\"2. Edit Room\")\n",
    "            print(\"3. Delete Room\")\n",
    "            print(\"4. Logout\")\n",
    "    \n",
    "            choice = input(\"Enter your choice:\\n\")\n",
    "    \n",
    "            if choice == '1':\n",
    "                self.add_room()\n",
    "            elif choice == '2':\n",
    "                self.edit_room()\n",
    "            elif choice == '3':\n",
    "                self.del_room()\n",
    "            elif choice == '4':\n",
    "                print(\"Logging out...\")\n",
    "                break\n",
    "            else:\n",
    "                print(\"Invalid choice, please try again\")\n",
    "    \n",
    "    def add_room(self):\n",
    "        print(\"Add a new room:\")\n",
    "        room_no = input(\"Enter Room Number:\\n\")\n",
    "        room_type = input(\"Enter Room Type (Single/Double/Family):\\n\")\n",
    "        rate = input(\"Enter Room Rate:\\n\")\n",
    "    \n",
    "        print(f\"Room {room_no} added with type {room_type} and rate {rate}.\")\n",
    "\n",
    "    def edit_room(self):\n",
    "        print(\"Select the room number you want to Edit:\")\n",
    "        room_no = input(\"Room Number:\\n\")\n",
    "        new_rate = input(\"New Rate:\\n\")\n",
    "        new_room_amen = input(\"New Amenities for the room:\\n\")\n",
    "        \n",
    "        # update of room info\n",
    "        print(f\"Room {room_no} is edited with the following changes:\\nNew Rate: {new_rate}\\nNew Amenities: {new_room_amen}\")\n",
    "\n",
    "    def del_room(self):\n",
    "        print(\"Enter the room number you want to delete:\")\n",
    "        room_no = input(\"Room Number:\\n\")\n",
    "        print(f\"Room {room_no} deleted.\")\n",
    "\n",
    "class Customer:\n",
    "    def __init__(self):\n",
    "        self.check_in_date = None\n",
    "        self.check_out_date = None\n",
    "        self.room_rate = 0\n",
    "\n",
    "    def view_services(self):\n",
    "        print(\"WELCOME to the HOTEL SKYLINE\\n\\n\")\n",
    "        print(\"The chart for the Customer Services is:\")\n",
    "        print(\"The HOTEL SKYLINE provides the following facilities:\\n -Room service\\n -Housekeeping\\n -Fitness Center/GYM\\n -Restaurant\\n -Room Amenities\\n -Laundry Services\\n -WiFi/Internet\\n -Parking\\n\")\n",
    "        print(\"For Room Booking see the following description:\")\n",
    "        print(\"The HOTEL SKYLINE provides the following Room Types:\\n 1. Single\\n 2. Double\\n 3. Family\")\n",
    "        print(\"Room Rates per day:\\n 1. Single - 4000 PKR\\n 2. Double - 8000 PKR\\n 3. Family - 10000 PKR\")\n",
    "\n",
    "    def perform_check_in(self):\n",
    "        print(\"For Room Booking, fill up the chart:\")\n",
    "        customer_name = input(\"Enter your Name:\\n\")\n",
    "        phone = input(\"Phone Number:\\n\")\n",
    "        id_card = input(\"ID Card Number:\\n\")\n",
    "        \n",
    "        print(\"Room Type:\\n 1. Single\\n 2. Double\\n 3. Family\")\n",
    "        room = int(input(\"Enter Room Type (1/2/3):\\n\"))\n",
    "\n",
    "        if room == 1:\n",
    "            self.room_rate = 4000\n",
    "        elif room == 2:\n",
    "            self.room_rate = 8000\n",
    "        elif room == 3:\n",
    "            self.room_rate = 10000\n",
    "        else:\n",
    "            print(\"Invalid Room Type\")\n",
    "            return\n",
    "        \n",
    "        check_in_date = input(\"Enter the Check-in date (YYYY-MM-DD): \")\n",
    "        check_out_date = input(\"Enter the Check-out date (YYYY-MM-DD): \")\n",
    "\n",
    "        try:\n",
    "            self.check_in_date = datetime.strptime(check_in_date, '%Y-%m-%d')\n",
    "            self.check_out_date = datetime.strptime(check_out_date, '%Y-%m-%d')\n",
    "        except ValueError:\n",
    "            print(\"Invalid date format. Please use YYYY-MM-DD.\")\n",
    "            return\n",
    "\n",
    "    def total_bill(self):\n",
    "        if self.check_in_date and self.check_out_date:\n",
    "            days = (self.check_out_date - self.check_in_date).days\n",
    "            if days < 0:\n",
    "                print(\"Check-out date must be after check-in date.\")\n",
    "                return\n",
    "            total = self.room_rate * days\n",
    "            print(\"No of the Days you Stayed:\", days)\n",
    "            print(f\"Your Total Balance is: {total}\")\n",
    "        else:\n",
    "            print(\"Invalid check-in or check-out dates.\")\n",
    "\n",
    "def main():\n",
    "    acc_type = int(input(\"Select Account Status\\n 1. Manager\\n 2. Customer\\n\"))\n",
    "    \n",
    "    if acc_type == 1:\n",
    "        manager = Manager(username=\"Fiza Abbas\", password=\"1223\")\n",
    "        manager.login()\n",
    "    elif acc_type == 2:\n",
    "        customer = Customer()\n",
    "        customer.view_services()\n",
    "        customer.perform_check_in()  # Renamed method call here\n",
    "        customer.total_bill()\n",
    "    else:\n",
    "        print(\"Invalid account type.\")\n",
    "\n",
    "if __name__ == \"__main__\":\n",
    "    main()\n"
   ]
  },
  {
   "cell_type": "code",
   "execution_count": null,
   "id": "a8de0677-2faa-4420-97ad-4ce528468d1a",
   "metadata": {},
   "outputs": [],
   "source": []
  }
 ],
 "metadata": {
  "kernelspec": {
   "display_name": "Python [conda env:anaconda3]",
   "language": "python",
   "name": "conda-env-anaconda3-py"
  },
  "language_info": {
   "codemirror_mode": {
    "name": "ipython",
    "version": 3
   },
   "file_extension": ".py",
   "mimetype": "text/x-python",
   "name": "python",
   "nbconvert_exporter": "python",
   "pygments_lexer": "ipython3",
   "version": "3.13.5"
  }
 },
 "nbformat": 4,
 "nbformat_minor": 5
}
